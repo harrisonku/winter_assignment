{
  "nbformat": 4,
  "nbformat_minor": 0,
  "metadata": {
    "colab": {
      "name": "2/20_new",
      "version": "0.3.2",
      "provenance": [],
      "include_colab_link": true
    },
    "kernelspec": {
      "name": "python3",
      "display_name": "Python 3"
    },
    "accelerator": "GPU"
  },
  "cells": [
    {
      "cell_type": "markdown",
      "metadata": {
        "id": "view-in-github",
        "colab_type": "text"
      },
      "source": [
        "<a href=\"https://colab.research.google.com/github/harrisonku/winter_assignment/blob/master/2_20_new.ipynb\" target=\"_parent\"><img src=\"https://colab.research.google.com/assets/colab-badge.svg\" alt=\"Open In Colab\"/></a>"
      ]
    },
    {
      "metadata": {
        "id": "dEM-0TePGnlB",
        "colab_type": "code",
        "colab": {}
      },
      "cell_type": "code",
      "source": [
        "!pip3 install torch torchvision tqdm matplotlib scikit-image"
      ],
      "execution_count": 0,
      "outputs": []
    },
    {
      "metadata": {
        "id": "O2_wdQhILUUw",
        "colab_type": "code",
        "colab": {}
      },
      "cell_type": "code",
      "source": [
        "!rm -rf ./ccpd5000/ && rm ccpd5000.tar.gz\n",
        "!wget https://github.com/amoshyc/cvlab-2019w-project/releases/download/v0.1/ccpd5000.tar.gz\n",
        "!tar zxf ccpd5000.tar.gz\n",
        "!ls ccpd5000/**/*.jpg | wc -l # expected 5000"
      ],
      "execution_count": 0,
      "outputs": []
    },
    {
      "metadata": {
        "id": "1L5ra-AXLtr7",
        "colab_type": "code",
        "colab": {}
      },
      "cell_type": "code",
      "source": [
        "import warnings\n",
        "\n",
        "import torch\n",
        "import numpy as np\n",
        "from PIL import Image, ImageDraw\n",
        "from skimage import util\n",
        "from skimage.transform import ProjectiveTransform, warp\n",
        "\n",
        "def draw_kpts(img, kpts, c='red', r=2.0):\n",
        "    '''Draw keypoints on image.\n",
        "    Args:\n",
        "        img: (PIL.Image) will be modified\n",
        "        kpts: (FloatTensor) keypoints in xy format, sized [8,]\n",
        "        c: (PIL.Color) color of keypoints, default to 'red'\n",
        "        r: (float) radius of keypoints, default to 2.0\n",
        "    Return:\n",
        "        img: (PIL.Image) modified image\n",
        "    '''\n",
        "    draw = ImageDraw.Draw(img)\n",
        "    kpts = kpts.view(4, 2)\n",
        "    kpts = kpts * torch.FloatTensor(img.size)\n",
        "    kpts = kpts.numpy().tolist()\n",
        "    for (x, y) in kpts:\n",
        "        draw.ellipse([x - r, y - r, x + r, y + r], fill=c)\n",
        "    return img\n",
        "\n",
        "\n",
        "def draw_plate(img, kpts):\n",
        "    '''Perspective tranform and draw the plate indicated by kpts to a 96x30 rectangle.\n",
        "    Args:\n",
        "        img: (PIL.Image) will be modified\n",
        "        kpts: (FloatTensor) keypoints in xy format, sized [8,]\n",
        "    Return:\n",
        "        img: (PIL.Image) modified image\n",
        "    Reference: http://scikit-image.org/docs/dev/auto_examples/xx_applications/plot_geometric.html\n",
        "    '''\n",
        "    src = np.float32([[96, 30], [0, 30], [0, 0], [96, 0]])\n",
        "    dst = kpts.view(4, 2).numpy()\n",
        "    dst = dst * np.float32(img.size)\n",
        "\n",
        "    transform = ProjectiveTransform()\n",
        "    transform.estimate(src, dst)\n",
        "    with warnings.catch_warnings(): # surpress skimage warning\n",
        "        warnings.simplefilter(\"ignore\")\n",
        "        warped = warp(np.array(img), transform, output_shape=(30, 96))\n",
        "        warped = util.img_as_ubyte(warped)\n",
        "    plate = Image.fromarray(warped)\n",
        "    img.paste(plate)\n",
        "    return img"
      ],
      "execution_count": 0,
      "outputs": []
    },
    {
      "metadata": {
        "id": "U53fhGX6LyoJ",
        "colab_type": "code",
        "outputId": "e6aacb2d-b4a3-4f4b-ad23-fd2213271c29",
        "colab": {
          "base_uri": "https://localhost:8080/",
          "height": 388
        }
      },
      "cell_type": "code",
      "source": [
        "from PIL import Image\n",
        "from tqdm import tqdm\n",
        "from pathlib import Path\n",
        "\n",
        "import torch\n",
        "from torch.utils.data import DataLoader\n",
        "from torchvision.transforms import functional as tf\n",
        "\n",
        "class CCPD5000:\n",
        "  def __init__(self, img_dir):\n",
        "    self.img_dir = Path(img_dir)\n",
        "    self.img_paths = self.img_dir.glob('*.jpg')\n",
        "    self.img_paths = sorted(list(self.img_paths))\n",
        "    \n",
        "  def __len__(self):\n",
        "    return len(self.img_paths)\n",
        "  \n",
        "  def __getitem__(self, idx):\n",
        "    img_path = self.img_paths[idx]\n",
        "    \n",
        "    # load image\n",
        "    img = Image.open(img_path)\n",
        "    W, H = img.size\n",
        "    img = img.convert('RGB')\n",
        "    img = img.resize((192, 320))\n",
        "    img = tf.to_tensor(img)\n",
        "    \n",
        "    # parse annotation\n",
        "    name = img_path.name\n",
        "    token = name.split('-')[3]\n",
        "    token = token.replace('&', '_')\n",
        "    kpt = [float(val) for val in token.split('_')]\n",
        "    kpt = torch.tensor(kpt) # [8,]\n",
        "    kpt = kpt.view(4, 2) # [4, 2]\n",
        "    kpt = kpt / torch.FloatTensor([W, H])\n",
        "    kpt = kpt.view(-1) # [8,]\n",
        "    \n",
        "    return img, kpt\n",
        "  \n",
        "\n",
        "train_set = CCPD5000('./ccpd5000/train')\n",
        "print(len(train_set))\n",
        "\n",
        "img, kpt = train_set[-1]\n",
        "print(img.size())\n",
        "print(kpt.size())\n",
        "\n",
        "img = tf.to_pil_image(img)\n",
        "vis = draw_kpts(img, kpt, c='orange')\n",
        "vis = draw_plate(vis, kpt)\n",
        "vis.save('./check.jpg')\n",
        "\n",
        "from IPython import display\n",
        "display.Image('./check.jpg')"
      ],
      "execution_count": 0,
      "outputs": [
        {
          "output_type": "stream",
          "text": [
            "4000\n",
            "torch.Size([3, 320, 192])\n",
            "torch.Size([8])\n"
          ],
          "name": "stdout"
        },
        {
          "output_type": "execute_result",
          "data": {
            "image/jpeg": "[encoded data removed]",
            "text/plain": [
              "<IPython.core.display.Image object>"
            ]
          },
          "metadata": {
            "tags": []
          },
          "execution_count": 4
        }
      ]
    },
    {
      "metadata": {
        "id": "8R8mCMgcL1NB",
        "colab_type": "code",
        "outputId": "6b5dc7fe-2bcc-4a65-f7ed-c4c4bbe58480",
        "colab": {
          "base_uri": "https://localhost:8080/",
          "height": 34
        }
      },
      "cell_type": "code",
      "source": [
        "import torch\n",
        "from torch import nn\n",
        "from torch.nn import functional as F\n",
        "\n",
        "\n",
        "class ConvBlock(nn.Module):\n",
        "    def __init__(self, cin, cout):\n",
        "        super().__init__()\n",
        "        self.conv1 = nn.Conv2d(cin, cout, (3, 3), padding=1)\n",
        "        self.conv2 = nn.Conv2d(cout, cout, (3, 3), padding=1)\n",
        "        self.bn1 = nn.BatchNorm2d(cout)\n",
        "        self.bn2 = nn.BatchNorm2d(cout)\n",
        "        self.act1 = nn.LeakyReLU()\n",
        "        self.act2 = nn.LeakyReLU()\n",
        "    \n",
        "    def forward(self, x):\n",
        "        x = self.act1(self.bn1(self.conv1(x)))\n",
        "        x = self.act1(self.bn2(self.conv2(x)))\n",
        "        return x\n",
        "\n",
        "\n",
        "class CCPDRegressor(nn.Module):\n",
        "    def __init__(self):\n",
        "        super().__init__()\n",
        "        self.features = nn.Sequential(\n",
        "            ConvBlock(3, 32),\n",
        "            nn.MaxPool2d((8, 8)),\n",
        "            ConvBlock(32, 32),\n",
        "            nn.MaxPool2d((4, 4)),\n",
        "            ConvBlock(32, 64),\n",
        "            nn.MaxPool2d((2, 2)),\n",
        "            ConvBlock(64, 64),\n",
        "            nn.MaxPool2d((2, 2)),\n",
        "        )\n",
        "        self.regressor = nn.Sequential(\n",
        "            nn.Linear(128, 32),\n",
        "            nn.LeakyReLU(),\n",
        "            nn.Linear(32, 8),\n",
        "            nn.Sigmoid(),\n",
        "        )\n",
        "\n",
        "    def forward(self, x):\n",
        "        N = x.size(0)\n",
        "        x = self.features(x)\n",
        "        x = x.view(N, -1) # i.e. Flatten\n",
        "        x = self.regressor(x)\n",
        "        return x\n",
        "\n",
        "      \n",
        "# Check\n",
        "device = 'cuda'\n",
        "model = CCPDRegressor().to(device)\n",
        "img_b = torch.rand(16, 3, 192, 320).to(device)\n",
        "out_b = model(img_b)\n",
        "print(out_b.size()) # expected [16, 8]"
      ],
      "execution_count": 0,
      "outputs": [
        {
          "output_type": "stream",
          "text": [
            "torch.Size([16, 8])\n"
          ],
          "name": "stdout"
        }
      ]
    },
    {
      "metadata": {
        "id": "8g_y1awmL7p9",
        "colab_type": "code",
        "outputId": "cb057869-0bd2-420c-fe7a-6a7a2ed63647",
        "colab": {
          "base_uri": "https://localhost:8080/",
          "height": 2074
        }
      },
      "cell_type": "code",
      "source": [
        "import json\n",
        "import random\n",
        "import numpy as np\n",
        "from tqdm import tqdm\n",
        "from pathlib import Path\n",
        "from datetime import datetime\n",
        "\n",
        "import pandas as pd\n",
        "import matplotlib.pyplot as plt\n",
        "plt.style.use('seaborn')\n",
        "\n",
        "import torch\n",
        "from torch import nn\n",
        "from torch.nn import functional as F\n",
        "from torchvision.utils import save_image\n",
        "from torch.utils.data import Subset, ConcatDataset, DataLoader\n",
        "from torchvision.transforms import functional as tf\n",
        "\n",
        "# For reproducibility\n",
        "# Set before loading model and dataset\n",
        "seed = 999\n",
        "random.seed(seed)\n",
        "np.random.seed(seed)\n",
        "torch.manual_seed(seed)\n",
        "torch.backends.cudnn.deterministic = True\n",
        "\n",
        "train_set = CCPD5000('./ccpd5000/train/')\n",
        "valid_set = CCPD5000('./ccpd5000/valid/')\n",
        "visul_set = ConcatDataset([\n",
        "    Subset(train_set, random.sample(range(len(train_set)), 64)),\n",
        "    Subset(valid_set, random.sample(range(len(valid_set)), 64)),\n",
        "])\n",
        "\n",
        "batch_size = 64\n",
        "train_loader = DataLoader(train_set, batch_size, shuffle=True, num_workers=6)\n",
        "valid_loader = DataLoader(valid_set, batch_size, shuffle=False, num_workers=2)\n",
        "visul_loader = DataLoader(visul_set, batch_size, shuffle=False, num_workers=2)\n",
        "\n",
        "device = 'cuda'\n",
        "model = CCPDRegressor().to(device)\n",
        "criterion = nn.L1Loss().to(device)\n",
        "optimizer = torch.optim.Adam(model.parameters(), lr=1e-2)\n",
        "\n",
        "log_dir = Path('./log/') / f'{datetime.now():%Y.%m.%d-%H:%M:%S}'\n",
        "log_dir.mkdir(parents=True)\n",
        "print(log_dir)\n",
        "history = {\n",
        "    'train_mae': [],\n",
        "    'valid_mae': [],\n",
        "    'train_mse': [],\n",
        "    'valid_mse': [],\n",
        "}\n",
        "\n",
        "\n",
        "def train(pbar):\n",
        "    model.train()\n",
        "    mae_steps = []\n",
        "    mse_steps = []\n",
        "\n",
        "    for img_b, kpt_b in iter(train_loader):\n",
        "        img_b = img_b.to(device)\n",
        "        kpt_b = kpt_b.to(device)\n",
        "\n",
        "        optimizer.zero_grad()\n",
        "        pred_b = model(img_b)\n",
        "        loss = criterion(pred_b, kpt_b)\n",
        "        loss.backward()\n",
        "        optimizer.step()\n",
        "\n",
        "        mae = loss.detach().item()\n",
        "        mse = F.mse_loss(pred_b.detach(), kpt_b.detach()).item()\n",
        "        mae_steps.append(mae)\n",
        "        mse_steps.append(mse)\n",
        "\n",
        "        pbar.set_postfix(mae=mae, mse=mse)\n",
        "        pbar.update(img_b.size(0))\n",
        "\n",
        "    avg_mae = sum(mae_steps) / len(mae_steps)\n",
        "    avg_mse = sum(mse_steps) / len(mse_steps)\n",
        "    pbar.set_postfix(avg_mae=f'{avg_mae:.5f}', avg_mse=f'{avg_mse:.5f}')\n",
        "    history['train_mae'].append(avg_mae)\n",
        "    history['train_mse'].append(avg_mse)\n",
        "\n",
        "\n",
        "def valid(pbar):\n",
        "    model.eval()\n",
        "    mae_steps = []\n",
        "    mse_steps = []\n",
        "\n",
        "    for img_b, kpt_b in iter(valid_loader):\n",
        "        img_b = img_b.to(device)\n",
        "        kpt_b = kpt_b.to(device)\n",
        "        pred_b = model(img_b)\n",
        "        loss = criterion(pred_b, kpt_b)\n",
        "        mae = loss.detach().item()\n",
        "\n",
        "        mse = F.mse_loss(pred_b.detach(), kpt_b.detach()).item()\n",
        "        mae_steps.append(mae)\n",
        "        mse_steps.append(mse)\n",
        "\n",
        "        pbar.set_postfix(mae=mae, mse=mse)\n",
        "        pbar.update(img_b.size(0))\n",
        "\n",
        "    avg_mae = sum(mae_steps) / len(mae_steps)\n",
        "    avg_mse = sum(mse_steps) / len(mse_steps)\n",
        "    pbar.set_postfix(avg_mae=f'{avg_mae:.5f}', avg_mse=f'{avg_mse:.5f}')\n",
        "    history['valid_mae'].append(avg_mae)\n",
        "    history['valid_mse'].append(avg_mse)\n",
        "\n",
        "\n",
        "def visul(pbar, epoch):\n",
        "    model.eval()\n",
        "    epoch_dir = log_dir / f'{epoch:03d}'\n",
        "    epoch_dir.mkdir()\n",
        "    for img_b, kpt_b in iter(visul_loader):\n",
        "        pred_b = model(img_b.to(device)).cpu()\n",
        "        for img, pred_kpt, true_kpt in zip(img_b, pred_b, kpt_b):\n",
        "            img = tf.to_pil_image(img)\n",
        "            vis = draw_plate(img, pred_kpt)\n",
        "            vis = draw_kpts(vis, true_kpt, c='orange')\n",
        "            vis = draw_kpts(vis, pred_kpt, c='red')\n",
        "            vis.save(epoch_dir / f'{pbar.n:03d}.jpg')\n",
        "            pbar.update()\n",
        "\n",
        "\n",
        "def log(epoch):\n",
        "    with (log_dir / 'metrics.json').open('w') as f:\n",
        "        json.dump(history, f)\n",
        "\n",
        "    fig, ax = plt.subplots(2, 1, figsize=(6, 6), dpi=100)\n",
        "    ax[0].set_title('MAE')\n",
        "    ax[0].plot(range(epoch + 1), history['train_mae'], label='Train')\n",
        "    ax[0].plot(range(epoch + 1), history['valid_mae'], label='Valid')\n",
        "    ax[0].legend()\n",
        "    ax[1].set_title('MSE')\n",
        "    ax[1].plot(range(epoch + 1), history['train_mse'], label='Train')\n",
        "    ax[1].plot(range(epoch + 1), history['valid_mse'], label='Valid')\n",
        "    ax[1].legend()\n",
        "    fig.savefig(str(log_dir / 'metrics.jpg'))\n",
        "    plt.close()\n",
        "    \n",
        "    if torch.tensor(history['valid_mse']).argmin() == epoch:\n",
        "        torch.save(model.state_dict(), str(log_dir / 'model.pth'))\n",
        "\n",
        "\n",
        "scheduler = torch.optim.lr_scheduler.StepLR(optimizer, step_size=6, gamma=0.8)\n",
        "for epoch in range(30):\n",
        "    scheduler.step()\n",
        "    print('Epoch', epoch, flush=True)\n",
        "    with tqdm(total=len(train_set), desc='  Train') as pbar:\n",
        "        train(pbar)\n",
        "\n",
        "    with torch.no_grad():\n",
        "        with tqdm(total=len(valid_set), desc='  Valid') as pbar:\n",
        "            valid(pbar)\n",
        "        with tqdm(total=len(visul_set), desc='  Visul') as pbar:\n",
        "            visul(pbar, epoch)\n",
        "        log(epoch)\n",
        "\n"
      ],
      "execution_count": 0,
      "outputs": [
        {
          "output_type": "stream",
          "text": [
            "log/2019.02.20-15:35:36\n",
            "Epoch 0\n"
          ],
          "name": "stdout"
        },
        {
          "output_type": "stream",
          "text": [
            "  Train: 100%|██████████| 4000/4000 [01:40<00:00, 79.79it/s, avg_mae=0.05789, avg_mse=0.00613]\n",
            "  Valid: 100%|██████████| 1000/1000 [00:24<00:00, 41.17it/s, avg_mae=0.05664, avg_mse=0.00602]\n",
            "  Visul: 100%|██████████| 128/128 [00:05<00:00, 25.33it/s]\n"
          ],
          "name": "stderr"
        },
        {
          "output_type": "stream",
          "text": [
            "Epoch 1\n"
          ],
          "name": "stdout"
        },
        {
          "output_type": "stream",
          "text": [
            "  Train: 100%|██████████| 4000/4000 [01:40<00:00, 72.97it/s, avg_mae=0.03207, avg_mse=0.00230]\n",
            "  Valid: 100%|██████████| 1000/1000 [00:24<00:00, 41.08it/s, avg_mae=0.02068, avg_mse=0.00078]\n",
            "  Visul: 100%|██████████| 128/128 [00:05<00:00, 25.18it/s]\n"
          ],
          "name": "stderr"
        },
        {
          "output_type": "stream",
          "text": [
            "Epoch 2\n"
          ],
          "name": "stdout"
        },
        {
          "output_type": "stream",
          "text": [
            "  Train: 100%|██████████| 4000/4000 [01:40<00:00, 76.94it/s, avg_mae=0.01724, avg_mse=0.00057]\n",
            "  Valid: 100%|██████████| 1000/1000 [00:25<00:00, 39.39it/s, avg_mae=0.02287, avg_mse=0.00085]\n",
            "  Visul: 100%|██████████| 128/128 [00:05<00:00, 40.47it/s]\n"
          ],
          "name": "stderr"
        },
        {
          "output_type": "stream",
          "text": [
            "Epoch 3\n"
          ],
          "name": "stdout"
        },
        {
          "output_type": "stream",
          "text": [
            "  Train: 100%|██████████| 4000/4000 [01:43<00:00, 79.30it/s, avg_mae=0.01805, avg_mse=0.00060]\n",
            "  Valid: 100%|██████████| 1000/1000 [00:25<00:00, 39.30it/s, avg_mae=0.01717, avg_mse=0.00058]\n",
            "  Visul: 100%|██████████| 128/128 [00:05<00:00, 24.82it/s]\n"
          ],
          "name": "stderr"
        },
        {
          "output_type": "stream",
          "text": [
            "Epoch 4\n"
          ],
          "name": "stdout"
        },
        {
          "output_type": "stream",
          "text": [
            "  Train: 100%|██████████| 4000/4000 [01:42<00:00, 76.02it/s, avg_mae=0.01556, avg_mse=0.00046]\n",
            "  Valid: 100%|██████████| 1000/1000 [00:24<00:00, 40.79it/s, avg_mae=0.01562, avg_mse=0.00044]\n",
            "  Visul: 100%|██████████| 128/128 [00:05<00:00, 24.53it/s]\n"
          ],
          "name": "stderr"
        },
        {
          "output_type": "stream",
          "text": [
            "Epoch 5\n"
          ],
          "name": "stdout"
        },
        {
          "output_type": "stream",
          "text": [
            "  Train: 100%|██████████| 4000/4000 [01:40<00:00, 76.70it/s, avg_mae=0.01358, avg_mse=0.00035]\n",
            "  Valid: 100%|██████████| 1000/1000 [00:24<00:00, 41.07it/s, avg_mae=0.01593, avg_mse=0.00047]\n",
            "  Visul: 100%|██████████| 128/128 [00:05<00:00, 25.10it/s]\n"
          ],
          "name": "stderr"
        },
        {
          "output_type": "stream",
          "text": [
            "Epoch 6\n"
          ],
          "name": "stdout"
        },
        {
          "output_type": "stream",
          "text": [
            "  Train: 100%|██████████| 4000/4000 [01:41<00:00, 72.21it/s, avg_mae=0.01244, avg_mse=0.00029]\n",
            "  Valid: 100%|██████████| 1000/1000 [00:25<00:00, 53.82it/s, avg_mae=0.01291, avg_mse=0.00033]\n",
            "  Visul: 100%|██████████| 128/128 [00:04<00:00, 41.95it/s]\n"
          ],
          "name": "stderr"
        },
        {
          "output_type": "stream",
          "text": [
            "Epoch 7\n"
          ],
          "name": "stdout"
        },
        {
          "output_type": "stream",
          "text": [
            "  Train: 100%|██████████| 4000/4000 [01:42<00:00, 75.21it/s, avg_mae=0.01123, avg_mse=0.00023]\n",
            "  Valid: 100%|██████████| 1000/1000 [00:26<00:00, 37.99it/s, avg_mae=0.01155, avg_mse=0.00025]\n",
            "  Visul: 100%|██████████| 128/128 [00:05<00:00, 21.79it/s]\n"
          ],
          "name": "stderr"
        },
        {
          "output_type": "stream",
          "text": [
            "Epoch 8\n"
          ],
          "name": "stdout"
        },
        {
          "output_type": "stream",
          "text": [
            "  Train: 100%|██████████| 4000/4000 [01:41<00:00, 82.66it/s, avg_mae=0.01106, avg_mse=0.00023]\n",
            "  Valid: 100%|██████████| 1000/1000 [00:24<00:00, 40.93it/s, avg_mae=0.01190, avg_mse=0.00028]\n",
            "  Visul: 100%|██████████| 128/128 [00:05<00:00, 40.88it/s]\n"
          ],
          "name": "stderr"
        },
        {
          "output_type": "stream",
          "text": [
            "Epoch 9\n"
          ],
          "name": "stdout"
        },
        {
          "output_type": "stream",
          "text": [
            "  Train: 100%|██████████| 4000/4000 [01:40<00:00, 78.87it/s, avg_mae=0.01069, avg_mse=0.00021]\n",
            "  Valid: 100%|██████████| 1000/1000 [00:24<00:00, 41.26it/s, avg_mae=0.01260, avg_mse=0.00029]\n",
            "  Visul: 100%|██████████| 128/128 [00:05<00:00, 25.42it/s]\n"
          ],
          "name": "stderr"
        },
        {
          "output_type": "stream",
          "text": [
            "Epoch 10\n"
          ],
          "name": "stdout"
        },
        {
          "output_type": "stream",
          "text": [
            "  Train: 100%|██████████| 4000/4000 [01:39<00:00, 82.33it/s, avg_mae=0.01122, avg_mse=0.00023]\n",
            "  Valid: 100%|██████████| 1000/1000 [00:24<00:00, 40.63it/s, avg_mae=0.01734, avg_mse=0.00053]\n",
            "  Visul: 100%|██████████| 128/128 [00:05<00:00, 41.25it/s]\n"
          ],
          "name": "stderr"
        },
        {
          "output_type": "stream",
          "text": [
            "Epoch 11\n"
          ],
          "name": "stdout"
        },
        {
          "output_type": "stream",
          "text": [
            "  Train: 100%|██████████| 4000/4000 [01:39<00:00, 78.88it/s, avg_mae=0.01157, avg_mse=0.00025]\n",
            "  Valid: 100%|██████████| 1000/1000 [00:23<00:00, 41.80it/s, avg_mae=0.01120, avg_mse=0.00028]\n",
            "  Visul: 100%|██████████| 128/128 [00:05<00:00, 23.94it/s]\n"
          ],
          "name": "stderr"
        },
        {
          "output_type": "stream",
          "text": [
            "Epoch 12\n"
          ],
          "name": "stdout"
        },
        {
          "output_type": "stream",
          "text": [
            "  Train: 100%|██████████| 4000/4000 [01:38<00:00, 83.38it/s, avg_mae=0.01183, avg_mse=0.00026]\n",
            "  Valid: 100%|██████████| 1000/1000 [00:23<00:00, 41.70it/s, avg_mae=0.01132, avg_mse=0.00023]\n",
            "  Visul: 100%|██████████| 128/128 [00:04<00:00, 25.67it/s]\n"
          ],
          "name": "stderr"
        },
        {
          "output_type": "stream",
          "text": [
            "Epoch 13\n"
          ],
          "name": "stdout"
        },
        {
          "output_type": "stream",
          "text": [
            "  Train: 100%|██████████| 4000/4000 [01:38<00:00, 79.75it/s, avg_mae=0.00948, avg_mse=0.00017]\n",
            "  Valid: 100%|██████████| 1000/1000 [00:24<00:00, 50.07it/s, avg_mae=0.00903, avg_mse=0.00015]\n",
            "  Visul: 100%|██████████| 128/128 [00:05<00:00, 23.20it/s]\n"
          ],
          "name": "stderr"
        },
        {
          "output_type": "stream",
          "text": [
            "Epoch 14\n"
          ],
          "name": "stdout"
        },
        {
          "output_type": "stream",
          "text": [
            "  Train: 100%|██████████| 4000/4000 [01:39<00:00, 83.17it/s, avg_mae=0.01086, avg_mse=0.00022]\n",
            "  Valid: 100%|██████████| 1000/1000 [00:24<00:00, 40.76it/s, avg_mae=0.01131, avg_mse=0.00024]\n",
            "  Visul: 100%|██████████| 128/128 [00:04<00:00, 40.88it/s]\n"
          ],
          "name": "stderr"
        },
        {
          "output_type": "stream",
          "text": [
            "Epoch 15\n"
          ],
          "name": "stdout"
        },
        {
          "output_type": "stream",
          "text": [
            "  Train: 100%|██████████| 4000/4000 [01:40<00:00, 83.04it/s, avg_mae=0.00961, avg_mse=0.00017]\n",
            "  Valid: 100%|██████████| 1000/1000 [00:24<00:00, 40.94it/s, avg_mae=0.01023, avg_mse=0.00021]\n",
            "  Visul: 100%|██████████| 128/128 [00:05<00:00, 25.25it/s]\n"
          ],
          "name": "stderr"
        },
        {
          "output_type": "stream",
          "text": [
            "Epoch 16\n"
          ],
          "name": "stdout"
        },
        {
          "output_type": "stream",
          "text": [
            "  Train: 100%|██████████| 4000/4000 [01:41<00:00, 82.91it/s, avg_mae=0.00969, avg_mse=0.00018]\n",
            "  Valid: 100%|██████████| 1000/1000 [00:24<00:00, 41.63it/s, avg_mae=0.01224, avg_mse=0.00028]\n",
            "  Visul: 100%|██████████| 128/128 [00:05<00:00, 24.89it/s]\n"
          ],
          "name": "stderr"
        },
        {
          "output_type": "stream",
          "text": [
            "Epoch 17\n"
          ],
          "name": "stdout"
        },
        {
          "output_type": "stream",
          "text": [
            "  Train: 100%|██████████| 4000/4000 [01:40<00:00, 77.99it/s, avg_mae=0.00947, avg_mse=0.00017]\n",
            "  Valid: 100%|██████████| 1000/1000 [00:25<00:00, 39.84it/s, avg_mae=0.01082, avg_mse=0.00024]\n",
            "  Visul: 100%|██████████| 128/128 [00:05<00:00, 24.64it/s]\n"
          ],
          "name": "stderr"
        },
        {
          "output_type": "stream",
          "text": [
            "Epoch 18\n"
          ],
          "name": "stdout"
        },
        {
          "output_type": "stream",
          "text": [
            "  Train: 100%|██████████| 4000/4000 [01:42<00:00, 77.85it/s, avg_mae=0.00846, avg_mse=0.00014]\n",
            "  Valid: 100%|██████████| 1000/1000 [00:24<00:00, 40.97it/s, avg_mae=0.00945, avg_mse=0.00017]\n",
            "  Visul: 100%|██████████| 128/128 [00:05<00:00, 24.82it/s]\n"
          ],
          "name": "stderr"
        },
        {
          "output_type": "stream",
          "text": [
            "Epoch 19\n"
          ],
          "name": "stdout"
        },
        {
          "output_type": "stream",
          "text": [
            "  Train: 100%|██████████| 4000/4000 [01:40<00:00, 79.24it/s, avg_mae=0.00887, avg_mse=0.00015]\n",
            "  Valid: 100%|██████████| 1000/1000 [00:23<00:00, 41.76it/s, avg_mae=0.01009, avg_mse=0.00019]\n",
            "  Visul: 100%|██████████| 128/128 [00:05<00:00, 40.91it/s]\n"
          ],
          "name": "stderr"
        },
        {
          "output_type": "stream",
          "text": [
            "Epoch 20\n"
          ],
          "name": "stdout"
        },
        {
          "output_type": "stream",
          "text": [
            "  Train: 100%|██████████| 4000/4000 [01:40<00:00, 78.44it/s, avg_mae=0.00849, avg_mse=0.00014]\n",
            "  Valid: 100%|██████████| 1000/1000 [00:24<00:00, 41.18it/s, avg_mae=0.00902, avg_mse=0.00016]\n",
            "  Visul: 100%|██████████| 128/128 [00:05<00:00, 24.34it/s]\n"
          ],
          "name": "stderr"
        },
        {
          "output_type": "stream",
          "text": [
            "Epoch 21\n"
          ],
          "name": "stdout"
        },
        {
          "output_type": "stream",
          "text": [
            "  Train: 100%|██████████| 4000/4000 [01:41<00:00, 80.16it/s, avg_mae=0.00891, avg_mse=0.00015]\n",
            "  Valid: 100%|██████████| 1000/1000 [00:24<00:00, 41.08it/s, avg_mae=0.00964, avg_mse=0.00019]\n",
            "  Visul: 100%|██████████| 128/128 [00:05<00:00, 24.95it/s]\n"
          ],
          "name": "stderr"
        },
        {
          "output_type": "stream",
          "text": [
            "Epoch 22\n"
          ],
          "name": "stdout"
        },
        {
          "output_type": "stream",
          "text": [
            "  Train: 100%|██████████| 4000/4000 [01:41<00:00, 76.38it/s, avg_mae=0.00913, avg_mse=0.00016]\n",
            "  Valid: 100%|██████████| 1000/1000 [00:24<00:00, 41.00it/s, avg_mae=0.00860, avg_mse=0.00014]\n",
            "  Visul: 100%|██████████| 128/128 [00:05<00:00, 24.92it/s]\n"
          ],
          "name": "stderr"
        },
        {
          "output_type": "stream",
          "text": [
            "Epoch 23\n"
          ],
          "name": "stdout"
        },
        {
          "output_type": "stream",
          "text": [
            "  Train: 100%|██████████| 4000/4000 [01:41<00:00, 79.50it/s, avg_mae=0.00922, avg_mse=0.00016]\n",
            "  Valid: 100%|██████████| 1000/1000 [00:24<00:00, 40.66it/s, avg_mae=0.01116, avg_mse=0.00022]\n",
            "  Visul: 100%|██████████| 128/128 [00:05<00:00, 41.78it/s]\n"
          ],
          "name": "stderr"
        },
        {
          "output_type": "stream",
          "text": [
            "Epoch 24\n"
          ],
          "name": "stdout"
        },
        {
          "output_type": "stream",
          "text": [
            "  Train: 100%|██████████| 4000/4000 [01:38<00:00, 77.94it/s, avg_mae=0.00794, avg_mse=0.00012]\n",
            "  Valid: 100%|██████████| 1000/1000 [00:24<00:00, 40.55it/s, avg_mae=0.00803, avg_mse=0.00013]\n",
            "  Visul: 100%|██████████| 128/128 [00:05<00:00, 25.53it/s]\n"
          ],
          "name": "stderr"
        },
        {
          "output_type": "stream",
          "text": [
            "Epoch 25\n"
          ],
          "name": "stdout"
        },
        {
          "output_type": "stream",
          "text": [
            "  Train: 100%|██████████| 4000/4000 [01:37<00:00, 84.22it/s, avg_mae=0.00762, avg_mse=0.00011]\n",
            "  Valid: 100%|██████████| 1000/1000 [00:25<00:00, 39.96it/s, avg_mae=0.00827, avg_mse=0.00013]\n",
            "  Visul: 100%|██████████| 128/128 [00:04<00:00, 41.46it/s]\n"
          ],
          "name": "stderr"
        },
        {
          "output_type": "stream",
          "text": [
            "Epoch 26\n"
          ],
          "name": "stdout"
        },
        {
          "output_type": "stream",
          "text": [
            "  Train: 100%|██████████| 4000/4000 [01:37<00:00, 82.92it/s, avg_mae=0.00768, avg_mse=0.00011]\n",
            "  Valid: 100%|██████████| 1000/1000 [00:23<00:00, 41.83it/s, avg_mae=0.00843, avg_mse=0.00014]\n",
            "  Visul: 100%|██████████| 128/128 [00:04<00:00, 25.61it/s]\n"
          ],
          "name": "stderr"
        },
        {
          "output_type": "stream",
          "text": [
            "Epoch 27\n"
          ],
          "name": "stdout"
        },
        {
          "output_type": "stream",
          "text": [
            "  Train: 100%|██████████| 4000/4000 [01:39<00:00, 77.47it/s, avg_mae=0.00765, avg_mse=0.00011]\n",
            "  Valid: 100%|██████████| 1000/1000 [00:24<00:00, 41.53it/s, avg_mae=0.00888, avg_mse=0.00016]\n",
            "  Visul: 100%|██████████| 128/128 [00:05<00:00, 25.42it/s]\n"
          ],
          "name": "stderr"
        },
        {
          "output_type": "stream",
          "text": [
            "Epoch 28\n"
          ],
          "name": "stdout"
        },
        {
          "output_type": "stream",
          "text": [
            "  Train: 100%|██████████| 4000/4000 [01:39<00:00, 80.16it/s, avg_mae=0.00731, avg_mse=0.00010]\n",
            "  Valid: 100%|██████████| 1000/1000 [00:23<00:00, 42.04it/s, avg_mae=0.00855, avg_mse=0.00014]\n",
            "  Visul: 100%|██████████| 128/128 [00:04<00:00, 25.92it/s]\n"
          ],
          "name": "stderr"
        },
        {
          "output_type": "stream",
          "text": [
            "Epoch 29\n"
          ],
          "name": "stdout"
        },
        {
          "output_type": "stream",
          "text": [
            "  Train: 100%|██████████| 4000/4000 [01:37<00:00, 83.67it/s, avg_mae=0.00771, avg_mse=0.00011]\n",
            "  Valid: 100%|██████████| 1000/1000 [00:23<00:00, 42.49it/s, avg_mae=0.00900, avg_mse=0.00016]\n",
            "  Visul: 100%|██████████| 128/128 [00:04<00:00, 26.25it/s]\n"
          ],
          "name": "stderr"
        }
      ]
    },
    {
      "metadata": {
        "id": "PqALV2GrZ6zg",
        "colab_type": "code",
        "outputId": "ad462e3d-c149-4828-c20a-ebc5269317ce",
        "colab": {
          "base_uri": "https://localhost:8080/",
          "height": 51
        }
      },
      "cell_type": "code",
      "source": [
        "from pathlib import Path\n",
        "from datetime import datetime\n",
        "import pandas as pd\n",
        "from tqdm import tqdm\n",
        "from PIL import Image\n",
        "\n",
        "import torch\n",
        "from torch.utils.data import DataLoader\n",
        "from torchvision.transforms import functional as tf\n",
        "\n",
        "#import util\n",
        "#from model import CCPDRegressor\n",
        "\n",
        "\n",
        "class CCPDTest:\n",
        "    def __init__(self, img_dir, img_size):\n",
        "        self.img_dir = Path(img_dir)\n",
        "        self.img_paths = self.img_dir.glob('*.jpg')\n",
        "        self.img_paths = sorted(list(self.img_paths))\n",
        "        self.img_size = img_size\n",
        "\n",
        "    def __len__(self):\n",
        "        return len(self.img_paths)\n",
        "\n",
        "    def __getitem__(self, idx):\n",
        "        img_path = self.img_paths[idx]\n",
        "        img = Image.open(img_path)\n",
        "        img = img.convert('RGB')\n",
        "        img = img.resize(self.img_size)\n",
        "        img = tf.to_tensor(img)\n",
        "        return img\n",
        "\n",
        "test_set = CCPDTest('./ccpd5000/test', (192, 320))\n",
        "test_loader = DataLoader(test_set, 32, shuffle=False, num_workers=2)\n",
        "\n",
        "device = 'cuda'\n",
        "model = CCPDRegressor().to(device)\n",
        "model.load_state_dict(torch.load('log/2019.02.20-15:35:36/model.pth'))\n",
        "model.eval()\n",
        "\n",
        "log_dir_test = Path('./test/') / f'{datetime.now():%Y.%m.%d-%H:%M:%S}'\n",
        "log_dir_test.mkdir(parents=True)\n",
        "print(log_dir_test)\n",
        "\n",
        "\n",
        "def test(pbar):\n",
        "    anns = []\n",
        "    for img_b in iter(test_loader):\n",
        "        kpt_b = model(img_b.to(device)).cpu()\n",
        "\n",
        "        for img, kpt in zip(img_b, kpt_b):\n",
        "            img = tf.to_pil_image(img)\n",
        "            vis = draw_plate(img, kpt)\n",
        "            vis = draw_kpts(vis, kpt, c='red')\n",
        "            vis.save(log_dir_test / f'{pbar.n:03d}_vis.jpg')\n",
        "\n",
        "            anns.append([f'{pbar.n:03d}.jpg', *kpt.numpy().tolist()])\n",
        "            pbar.update()\n",
        "\n",
        "    return pd.DataFrame(anns)\n",
        "\n",
        "\n",
        "#print(len(test_set))\n",
        "\n",
        "with torch.no_grad():\n",
        "    with tqdm(total=len(test_set)) as pbar:\n",
        "        df_pred = test(pbar)\n",
        "    df_pred.columns = ['name', 'BR_x', 'BR_y', 'BL_x', 'BL_y', 'TL_x', 'TL_y', 'TR_x', 'TR_y']\n",
        "    df_pred.to_csv(log_dir_test / 'test_pred.csv', float_format='%.5f', index=False)\n"
      ],
      "execution_count": 0,
      "outputs": [
        {
          "output_type": "stream",
          "text": [
            "\r  0%|          | 0/1000 [00:00<?, ?it/s]"
          ],
          "name": "stderr"
        },
        {
          "output_type": "stream",
          "text": [
            "test/2019.02.20-16:41:51\n"
          ],
          "name": "stdout"
        },
        {
          "output_type": "stream",
          "text": [
            "100%|██████████| 1000/1000 [00:39<00:00, 25.46it/s]\n"
          ],
          "name": "stderr"
        }
      ]
    },
    {
      "metadata": {
        "id": "wKYvZ1qqMwmX",
        "colab_type": "code",
        "outputId": "11e17e0a-8edf-4984-d4ad-7b89f362af3b",
        "colab": {
          "base_uri": "https://localhost:8080/",
          "height": 617
        }
      },
      "cell_type": "code",
      "source": [
        "display.Image(str(log_dir / 'metrics.jpg'))"
      ],
      "execution_count": 0,
      "outputs": [
        {
          "output_type": "execute_result",
          "data": {
            "image/jpeg": "[encoded data removed]",
            "text/plain": [
              "<IPython.core.display.Image object>"
            ]
          },
          "metadata": {
            "tags": []
          },
          "execution_count": 13
        }
      ]
    },
    {
      "metadata": {
        "id": "o4rZ8AxyTJxe",
        "colab_type": "code",
        "outputId": "0e501339-cc56-4e33-85f2-a7b7a03ed913",
        "colab": {
          "base_uri": "https://localhost:8080/",
          "height": 37
        }
      },
      "cell_type": "code",
      "source": [
        "display.Image(str(log_dir / '009' / '032.jpg')) # 32 ~ 63 are validation images' visualization"
      ],
      "execution_count": 0,
      "outputs": [
        {
          "output_type": "execute_result",
          "data": {
            "image/png": "test/2019.02.19-16:53:10/009/032.jpg",
            "text/plain": [
              "<IPython.core.display.Image object>"
            ]
          },
          "metadata": {
            "tags": []
          },
          "execution_count": 10
        }
      ]
    }
  ]
}